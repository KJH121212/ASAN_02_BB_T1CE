{
 "cells": [
  {
   "cell_type": "code",
   "execution_count": null,
   "id": "9d4e5f14",
   "metadata": {},
   "outputs": [
    {
     "name": "stdout",
     "output_type": "stream",
     "text": [
      "📂 Current working dir: /workspace/nas100/forGPU2/Kimjihoo/ASAN_02_BB_T1CE\n",
      "🧠 Using device: cuda\n",
      "✅ Config check complete\n"
     ]
    },
    {
     "ename": "AttributeError",
     "evalue": "'EasyDict' object has no attribute 'optimizer'",
     "output_type": "error",
     "traceback": [
      "\u001b[0;31m---------------------------------------------------------------------------\u001b[0m",
      "\u001b[0;31mAttributeError\u001b[0m                            Traceback (most recent call last)",
      "Cell \u001b[0;32mIn[1], line 55\u001b[0m\n\u001b[1;32m     51\u001b[0m config\u001b[38;5;241m.\u001b[39mdata\u001b[38;5;241m.\u001b[39mt1ce_dir \u001b[38;5;241m=\u001b[39m \u001b[38;5;124m\"\u001b[39m\u001b[38;5;124mmeta-t1ce\u001b[39m\u001b[38;5;124m\"\u001b[39m\n\u001b[1;32m     53\u001b[0m \u001b[38;5;28mprint\u001b[39m(\u001b[38;5;124m\"\u001b[39m\u001b[38;5;124m✅ Config check complete\u001b[39m\u001b[38;5;124m\"\u001b[39m)\n\u001b[0;32m---> 55\u001b[0m \u001b[43mtrain_diffusion\u001b[49m\u001b[43m(\u001b[49m\u001b[43mconfig\u001b[49m\u001b[43m,\u001b[49m\u001b[43mdevice\u001b[49m\u001b[43m)\u001b[49m\n",
      "File \u001b[0;32m/workspace/nas100/forGPU2/Kimjihoo/ASAN_02_BB_T1CE/runners/train_ddpm.py:31\u001b[0m, in \u001b[0;36mtrain_diffusion\u001b[0;34m(config, device)\u001b[0m\n\u001b[1;32m     29\u001b[0m model \u001b[38;5;241m=\u001b[39m Model(config)\u001b[38;5;241m.\u001b[39mto(device)                                   \u001b[38;5;66;03m# Diffusion 모델 로드 후 GPU로 이동\u001b[39;00m\n\u001b[1;32m     30\u001b[0m model \u001b[38;5;241m=\u001b[39m torch\u001b[38;5;241m.\u001b[39mnn\u001b[38;5;241m.\u001b[39mDataParallel(model)                               \u001b[38;5;66;03m# 멀티 GPU 지원 (DataParallel)\u001b[39;00m\n\u001b[0;32m---> 31\u001b[0m optimizer \u001b[38;5;241m=\u001b[39m \u001b[43mget_optimizer\u001b[49m\u001b[43m(\u001b[49m\u001b[43mconfig\u001b[49m\u001b[43m,\u001b[49m\u001b[43m \u001b[49m\u001b[43mmodel\u001b[49m\u001b[38;5;241;43m.\u001b[39;49m\u001b[43mparameters\u001b[49m\u001b[43m(\u001b[49m\u001b[43m)\u001b[49m\u001b[43m)\u001b[49m              \u001b[38;5;66;03m# 설정파일 기반 optimizer 생성\u001b[39;00m\n\u001b[1;32m     33\u001b[0m \u001b[38;5;66;03m# EMA (Exponential Moving Average) 설정\u001b[39;00m\n\u001b[1;32m     34\u001b[0m ema_helper \u001b[38;5;241m=\u001b[39m EMAHelper(mu\u001b[38;5;241m=\u001b[39mconfig\u001b[38;5;241m.\u001b[39mmodel\u001b[38;5;241m.\u001b[39mema_rate) \u001b[38;5;28;01mif\u001b[39;00m config\u001b[38;5;241m.\u001b[39mmodel\u001b[38;5;241m.\u001b[39mema \u001b[38;5;28;01melse\u001b[39;00m \u001b[38;5;28;01mNone\u001b[39;00m\n",
      "File \u001b[0;32m/workspace/nas100/forGPU2/Kimjihoo/ASAN_02_BB_T1CE/functions/utils.py:4\u001b[0m, in \u001b[0;36mget_optimizer\u001b[0;34m(config, parameters)\u001b[0m\n\u001b[1;32m      3\u001b[0m \u001b[38;5;28;01mdef\u001b[39;00m \u001b[38;5;21mget_optimizer\u001b[39m(config, parameters):          \u001b[38;5;66;03m# 설정(config)과 모델 파라미터를 받아 optimizer를 생성하는 함수\u001b[39;00m\n\u001b[0;32m----> 4\u001b[0m     \u001b[38;5;28;01mif\u001b[39;00m \u001b[43mconfig\u001b[49m\u001b[38;5;241;43m.\u001b[39;49m\u001b[43moptim\u001b[49m\u001b[38;5;241;43m.\u001b[39;49m\u001b[43moptimizer\u001b[49m \u001b[38;5;241m==\u001b[39m \u001b[38;5;124m'\u001b[39m\u001b[38;5;124mAdam\u001b[39m\u001b[38;5;124m'\u001b[39m:            \u001b[38;5;66;03m# Optimizer가 'Adam'일 경우\u001b[39;00m\n\u001b[1;32m      5\u001b[0m         \u001b[38;5;28;01mreturn\u001b[39;00m optim\u001b[38;5;241m.\u001b[39mAdam(                              \u001b[38;5;66;03m# Adam optimizer 생성 및 반환\u001b[39;00m\n\u001b[1;32m      6\u001b[0m             parameters,                                     \u001b[38;5;66;03m# 모델 파라미터 전달\u001b[39;00m\n\u001b[1;32m      7\u001b[0m             lr\u001b[38;5;241m=\u001b[39mconfig\u001b[38;5;241m.\u001b[39moptim\u001b[38;5;241m.\u001b[39mlr,                             \u001b[38;5;66;03m# 학습률(learning rate)\u001b[39;00m\n\u001b[0;32m   (...)\u001b[0m\n\u001b[1;32m     11\u001b[0m             eps\u001b[38;5;241m=\u001b[39mconfig\u001b[38;5;241m.\u001b[39moptim\u001b[38;5;241m.\u001b[39meps                            \u001b[38;5;66;03m# 수치 안정성용 epsilon 값\u001b[39;00m\n\u001b[1;32m     12\u001b[0m         )\n\u001b[1;32m     13\u001b[0m     \u001b[38;5;28;01melif\u001b[39;00m config\u001b[38;5;241m.\u001b[39moptim\u001b[38;5;241m.\u001b[39moptimizer \u001b[38;5;241m==\u001b[39m \u001b[38;5;124m'\u001b[39m\u001b[38;5;124mRMSProp\u001b[39m\u001b[38;5;124m'\u001b[39m:   \u001b[38;5;66;03m# Optimizer가 'RMSProp'일 경우\u001b[39;00m\n",
      "\u001b[0;31mAttributeError\u001b[0m: 'EasyDict' object has no attribute 'optimizer'"
     ]
    }
   ],
   "source": [
    "# ================================================================\n",
    "# ✅ 1️⃣ 기본 Import\n",
    "# ================================================================\n",
    "import os\n",
    "import sys\n",
    "sys.path.append(\"/workspace/nas100/forGPU2/Kimjihoo/ASAN_02_BB_T1CE\")\n",
    "\n",
    "import torch\n",
    "import yaml\n",
    "from easydict import EasyDict as edict\n",
    "\n",
    "# 로깅 및 경고 무시 설정\n",
    "import logging\n",
    "logging.basicConfig(level=logging.INFO)\n",
    "import warnings\n",
    "warnings.filterwarnings(\"ignore\")\n",
    "\n",
    "# 프로젝트 루트 기준 경로 설정\n",
    "os.chdir(\"/workspace/nas100/forGPU2/Kimjihoo/ASAN_02_BB_T1CE\")  # 경로 맞게 수정\n",
    "print(\"📂 Current working dir:\", os.getcwd())\n",
    "\n",
    "# ================================================================\n",
    "# ✅ 2️⃣ 함수 및 설정 불러오기\n",
    "# ================================================================\n",
    "from runners.train_ddpm import train_diffusion  # 학습 함수\n",
    "from torch.utils.tensorboard import SummaryWriter\n",
    "\n",
    "# YAML config 불러오기\n",
    "cfg_path = \"./configs/ddpm.yml\"  # 혹은 ddpm.yml\n",
    "with open(cfg_path, \"r\") as f:\n",
    "    config = edict(yaml.safe_load(f))\n",
    "\n",
    "# TensorBoard logger 추가\n",
    "config.tb_logger = SummaryWriter(log_dir=\"./logs/tensorboard\")\n",
    "\n",
    "# GPU/CPU 설정\n",
    "device = \"cuda\" if torch.cuda.is_available() else \"cpu\"\n",
    "print(f\"🧠 Using device: {device}\")\n",
    "\n",
    "# ================================================================\n",
    "# ✅ 3️⃣ 빠른 테스트용 파라미터 수정\n",
    "# ================================================================\n",
    "# (하나의 케이스만 돌려보기 위해 epoch, batch 줄이기)\n",
    "config.training.n_epochs = 1\n",
    "config.training.batch_size = 4\n",
    "config.data.num_workers = 2\n",
    "\n",
    "# 경로 확인 (train/val dataset 경로)\n",
    "config.data.model_dir_path = \"./data/1_SPLIT_DATA/train\"\n",
    "config.data.bb_dir = \"meta-bb\"\n",
    "config.data.t1ce_dir = \"meta-t1ce\"\n",
    "\n",
    "print(\"✅ Config check complete\")\n",
    "\n",
    "train_diffusion(config,device)"
   ]
  },
  {
   "cell_type": "code",
   "execution_count": 16,
   "id": "ee34c540",
   "metadata": {},
   "outputs": [
    {
     "name": "stdout",
     "output_type": "stream",
     "text": [
      "Looking in indexes: https://mirror.kakao.com/pypi/simple/, https://pypi.org/simple/\n",
      "Collecting easydict\n",
      "  Downloading easydict-1.13-py3-none-any.whl.metadata (4.2 kB)\n",
      "Downloading easydict-1.13-py3-none-any.whl (6.8 kB)\n",
      "Installing collected packages: easydict\n",
      "Successfully installed easydict-1.13\n",
      "\u001b[33mWARNING: Running pip as the 'root' user can result in broken permissions and conflicting behaviour with the system package manager, possibly rendering your system unusable. It is recommended to use a virtual environment instead: https://pip.pypa.io/warnings/venv. Use the --root-user-action option if you know what you are doing and want to suppress this warning.\u001b[0m\u001b[33m\n",
      "\u001b[0m"
     ]
    }
   ],
   "source": [
    "!pip install easydict"
   ]
  }
 ],
 "metadata": {
  "kernelspec": {
   "display_name": "Python 3 (ipykernel)",
   "language": "python",
   "name": "python3"
  },
  "language_info": {
   "codemirror_mode": {
    "name": "ipython",
    "version": 3
   },
   "file_extension": ".py",
   "mimetype": "text/x-python",
   "name": "python",
   "nbconvert_exporter": "python",
   "pygments_lexer": "ipython3",
   "version": "3.10.13"
  }
 },
 "nbformat": 4,
 "nbformat_minor": 5
}

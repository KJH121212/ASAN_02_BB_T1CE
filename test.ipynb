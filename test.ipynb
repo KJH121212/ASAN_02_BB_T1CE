{
 "cells": [
  {
   "cell_type": "code",
   "execution_count": 1,
   "id": "809299d2",
   "metadata": {},
   "outputs": [
    {
     "name": "stdout",
     "output_type": "stream",
     "text": [
      "Device: cuda\n"
     ]
    }
   ],
   "source": [
    "import os, sys\n",
    "sys.path.append(os.path.abspath(\"/workspace/nas100/forGPU2/Kimjihoo/ASAN_02_BB_T1CE\"))\n",
    "\n",
    "# --- Imports ---\n",
    "import torch\n",
    "from omegaconf import OmegaConf\n",
    "from datasets import BB2T1CEDataset2D\n",
    "from models import Model\n",
    "\n",
    "# Device 설정\n",
    "device = torch.device(\"cuda\" if torch.cuda.is_available() else \"cpu\")\n",
    "print(\"Device:\", device)\n"
   ]
  },
  {
   "cell_type": "code",
   "execution_count": 2,
   "id": "95a6bfd0",
   "metadata": {},
   "outputs": [
    {
     "name": "stdout",
     "output_type": "stream",
     "text": [
      "12028537_tp20201206_bb_coreg.nii.gz\n",
      "13771269_tp20201224_bb_coreg.nii.gz\n",
      "15369028_tp20201215_bb_coreg.nii.gz\n",
      "17530376_tp20201104_bb_coreg.nii.gz\n",
      "18482526_tp20210129_bb_coreg.nii.gz\n",
      "18849484_tp20201124_bb_coreg.nii.gz\n",
      "19002581_tp20201106_bb_coreg.nii.gz\n",
      "19722063_tp20201127_bb_coreg.nii.gz\n",
      "20721084_tp20201219_bb_coreg.nii.gz\n",
      "20851512_tp20201209_bb_coreg.nii.gz\n"
     ]
    }
   ],
   "source": [
    "from pathlib import Path\n",
    "root = Path(\"/workspace/nas100/forGPU2/Kimjihoo/ASAN_02_BB_T1CE/data/0_RAW_DATA/meta-bb\")\n",
    "for f in sorted(root.glob(\"*.nii.gz\"))[:10]:\n",
    "    print(f.name)\n"
   ]
  },
  {
   "cell_type": "code",
   "execution_count": 4,
   "id": "51ccde8a",
   "metadata": {},
   "outputs": [
    {
     "name": "stdout",
     "output_type": "stream",
     "text": [
      "torch.Size([4, 1, 256, 256]) torch.Size([4, 1, 256, 256])\n"
     ]
    }
   ],
   "source": [
    "from datasets import BB2T1CEDataset2D\n",
    "\n",
    "ds = BB2T1CEDataset2D(\n",
    "    root_dir=\"/workspace/nas100/forGPU2/Kimjihoo/ASAN_02_BB_T1CE/data/0_RAW_DATA\",\n",
    "    n_slices_per_vol=4\n",
    ")\n",
    "\n",
    "bb, t1ce = ds[0]\n",
    "print(bb.shape, t1ce.shape)\n",
    "# ✅ torch.Size([4, 1, 256, 256]) torch.Size([4, 1, 256, 256])\n"
   ]
  },
  {
   "cell_type": "code",
   "execution_count": 5,
   "id": "dc7ac58a",
   "metadata": {},
   "outputs": [
    {
     "name": "stdout",
     "output_type": "stream",
     "text": [
      "✅ Output: torch.Size([4, 1, 256, 256])\n"
     ]
    }
   ],
   "source": [
    "from types import SimpleNamespace\n",
    "\n",
    "config = SimpleNamespace(\n",
    "    model=SimpleNamespace(\n",
    "        ch=64,\n",
    "        out_ch=1,\n",
    "        ch_mult=(1, 2, 4, 8),\n",
    "        num_res_blocks=2,\n",
    "        attn_resolutions=[16],\n",
    "        dropout=0.1,\n",
    "        in_channels=1,\n",
    "        resamp_with_conv=True,\n",
    "        ema=True,\n",
    "        ema_rate=0.9999,\n",
    "        var_type=\"fixedsmall\"\n",
    "    ),\n",
    "    data=SimpleNamespace(\n",
    "        image_size=256\n",
    "    ),\n",
    "    diffusion=SimpleNamespace(\n",
    "        num_diffusion_timesteps=1000,\n",
    "        beta_start=1e-4,\n",
    "        beta_end=0.02,\n",
    "        beta_schedule=\"linear\"\n",
    "    )\n",
    ")\n",
    "from models import Model\n",
    "import torch\n",
    "\n",
    "# 모델 초기화\n",
    "model = Model(config).cuda()\n",
    "\n",
    "# 데이터셋 샘플 불러오기\n",
    "from datasets import BB2T1CEDataset2D\n",
    "ds = BB2T1CEDataset2D(\n",
    "    root_dir=\"/workspace/nas100/forGPU2/Kimjihoo/ASAN_02_BB_T1CE/data/0_RAW_DATA\",\n",
    "    n_slices_per_vol=4\n",
    ")\n",
    "bb, t1ce = ds[0]\n",
    "bb = bb.cuda()\n",
    "\n",
    "# timestep\n",
    "t = torch.randint(0, config.diffusion.num_diffusion_timesteps, (bb.size(0),)).cuda()\n",
    "\n",
    "# forward\n",
    "out, feats = model(bb, t)\n",
    "print(\"✅ Output:\", out.shape)\n"
   ]
  },
  {
   "cell_type": "code",
   "execution_count": null,
   "id": "955bc46e",
   "metadata": {},
   "outputs": [
    {
     "ename": "TypeError",
     "evalue": "get_beta_schedule() takes 1 positional argument but 4 were given",
     "output_type": "error",
     "traceback": [
      "\u001b[0;31m---------------------------------------------------------------------------\u001b[0m",
      "\u001b[0;31mTypeError\u001b[0m                                 Traceback (most recent call last)",
      "Cell \u001b[0;32mIn[9], line 39\u001b[0m\n\u001b[1;32m     36\u001b[0m ema_helper\u001b[38;5;241m.\u001b[39mregister(model)\n\u001b[1;32m     38\u001b[0m \u001b[38;5;66;03m# Diffusion betas\u001b[39;00m\n\u001b[0;32m---> 39\u001b[0m betas \u001b[38;5;241m=\u001b[39m torch\u001b[38;5;241m.\u001b[39mfrom_numpy(\u001b[43mget_beta_schedule\u001b[49m\u001b[43m(\u001b[49m\n\u001b[1;32m     40\u001b[0m \u001b[43m    \u001b[49m\u001b[43mcfg\u001b[49m\u001b[38;5;241;43m.\u001b[39;49m\u001b[43mdiffusion\u001b[49m\u001b[38;5;241;43m.\u001b[39;49m\u001b[43mbeta_schedule\u001b[49m\u001b[43m,\u001b[49m\n\u001b[1;32m     41\u001b[0m \u001b[43m    \u001b[49m\u001b[43mcfg\u001b[49m\u001b[38;5;241;43m.\u001b[39;49m\u001b[43mdiffusion\u001b[49m\u001b[38;5;241;43m.\u001b[39;49m\u001b[43mbeta_start\u001b[49m\u001b[43m,\u001b[49m\n\u001b[1;32m     42\u001b[0m \u001b[43m    \u001b[49m\u001b[43mcfg\u001b[49m\u001b[38;5;241;43m.\u001b[39;49m\u001b[43mdiffusion\u001b[49m\u001b[38;5;241;43m.\u001b[39;49m\u001b[43mbeta_end\u001b[49m\u001b[43m,\u001b[49m\n\u001b[1;32m     43\u001b[0m \u001b[43m    \u001b[49m\u001b[43mcfg\u001b[49m\u001b[38;5;241;43m.\u001b[39;49m\u001b[43mdiffusion\u001b[49m\u001b[38;5;241;43m.\u001b[39;49m\u001b[43mnum_diffusion_timesteps\u001b[49m\n\u001b[1;32m     44\u001b[0m \u001b[43m)\u001b[49m)\u001b[38;5;241m.\u001b[39mfloat()\u001b[38;5;241m.\u001b[39mto(device)\n\u001b[1;32m     46\u001b[0m \u001b[38;5;66;03m# ------------------------------------------------\u001b[39;00m\n\u001b[1;32m     47\u001b[0m \u001b[38;5;66;03m# 4️⃣ Training Loop\u001b[39;00m\n\u001b[1;32m     48\u001b[0m \u001b[38;5;66;03m# ------------------------------------------------\u001b[39;00m\n\u001b[1;32m     49\u001b[0m global_step \u001b[38;5;241m=\u001b[39m \u001b[38;5;241m0\u001b[39m\n",
      "\u001b[0;31mTypeError\u001b[0m: get_beta_schedule() takes 1 positional argument but 4 were given"
     ]
    }
   ],
   "source": [
    "# ================================================================\n",
    "# 🔹 BB→T1CE Diffusion Training (No WandB)\n",
    "# ================================================================\n",
    "import os, torch, time\n",
    "from torch.utils.data import DataLoader\n",
    "from omegaconf import OmegaConf\n",
    "from models import Model\n",
    "from datasets import BB2T1CEDataset2D\n",
    "from functions.losses import noise_estimation_loss\n",
    "from functions.utils import get_beta_schedule\n",
    "from models.ema_helper import EMAHelper\n",
    "\n",
    "# ------------------------------------------------\n",
    "# 1️⃣ Load Config\n",
    "# ------------------------------------------------\n",
    "cfg = OmegaConf.load(\"/workspace/nas100/forGPU2/Kimjihoo/ASAN_02_BB_T1CE/configs/bb2t1ce_train.yml\")\n",
    "device = torch.device(\"cuda\" if torch.cuda.is_available() else \"cpu\")\n",
    "\n",
    "os.makedirs(cfg.log_dir, exist_ok=True)\n",
    "os.makedirs(cfg.ckpt_dir, exist_ok=True)\n",
    "\n",
    "# ------------------------------------------------\n",
    "# 2️⃣ Dataset / Dataloader\n",
    "# ------------------------------------------------\n",
    "ds = BB2T1CEDataset2D(cfg.data.root_dir, n_slices_per_vol=cfg.data.n_slices_per_vol)\n",
    "train_loader = DataLoader(\n",
    "    ds, batch_size=cfg.data.batch_size, shuffle=True, num_workers=cfg.data.num_workers\n",
    ")\n",
    "\n",
    "# ------------------------------------------------\n",
    "# 3️⃣ Model / Optimizer / EMA\n",
    "# ------------------------------------------------\n",
    "model = Model(cfg).to(device)\n",
    "optimizer = torch.optim.Adam(model.parameters(), lr=cfg.optim.lr)\n",
    "ema_helper = EMAHelper(mu=cfg.model.ema_rate)\n",
    "ema_helper.register(model)\n",
    "\n",
    "# Diffusion betas\n",
    "betas = torch.from_numpy(get_beta_schedule(\n",
    "    beta_schedule=cfg.diffusion.beta_schedule,\n",
    "    beta_start=cfg.diffusion.beta_start,\n",
    "    beta_end=cfg.diffusion.beta_end,\n",
    "    num_diffusion_timesteps=cfg.diffusion.num_diffusion_timesteps\n",
    ")).float().to(device)\n",
    "\n",
    "# ------------------------------------------------\n",
    "# 4️⃣ Training Loop\n",
    "# ------------------------------------------------\n",
    "global_step = 0\n",
    "for epoch in range(cfg.training.epochs):\n",
    "    model.train()\n",
    "    epoch_loss = 0.0\n",
    "    start_time = time.time()\n",
    "\n",
    "    for i, (bb, t1ce) in enumerate(train_loader):\n",
    "        bb = bb.to(device)         # conditional input\n",
    "        t1ce = t1ce.to(device)     # target to predict noise\n",
    "        e = torch.randn_like(t1ce)\n",
    "        t = torch.randint(0, cfg.diffusion.num_diffusion_timesteps, (t1ce.size(0),), device=device).long()\n",
    "\n",
    "        loss = noise_estimation_loss(model, t1ce, bb, t, e, betas)\n",
    "        optimizer.zero_grad()\n",
    "        loss.backward()\n",
    "        torch.nn.utils.clip_grad_norm_(model.parameters(), cfg.optim.grad_clip)\n",
    "        optimizer.step()\n",
    "        ema_helper.update(model)\n",
    "\n",
    "        global_step += 1\n",
    "        epoch_loss += loss.item()\n",
    "\n",
    "        # ---- Logging ----\n",
    "        if global_step % cfg.training.print_freq == 0:\n",
    "            print(f\"[Epoch {epoch:03d} | Step {global_step:05d}] Loss: {loss.item():.6f}\")\n",
    "\n",
    "        # ---- Save every 5 steps ----\n",
    "        if global_step % 5 == 0:\n",
    "            ckpt_path = os.path.join(cfg.ckpt_dir, f\"ckpt_step{global_step:05d}.pth\")\n",
    "            torch.save({\n",
    "                \"model\": model.state_dict(),\n",
    "                \"ema\": ema_helper.state_dict(),\n",
    "                \"optimizer\": optimizer.state_dict(),\n",
    "                \"step\": global_step,\n",
    "                \"epoch\": epoch,\n",
    "            }, ckpt_path)\n",
    "            print(f\"✅ Checkpoint saved at {ckpt_path}\")\n",
    "\n",
    "    avg_loss = epoch_loss / len(train_loader)\n",
    "    print(f\"✅ Epoch {epoch} done | Avg Loss: {avg_loss:.6f} | Time: {time.time() - start_time:.2f}s\")\n",
    "\n",
    "# ------------------------------------------------\n",
    "# 5️⃣ Save Final Model\n",
    "# ------------------------------------------------\n",
    "final_path = os.path.join(cfg.ckpt_dir, \"final_model.pth\")\n",
    "torch.save({\n",
    "    \"model\": model.state_dict(),\n",
    "    \"ema\": ema_helper.state_dict(),\n",
    "    \"optimizer\": optimizer.state_dict(),\n",
    "    \"step\": global_step,\n",
    "}, final_path)\n",
    "print(f\"🎯 Final model saved to {final_path}\")\n"
   ]
  }
 ],
 "metadata": {
  "kernelspec": {
   "display_name": "Python 3 (ipykernel)",
   "language": "python",
   "name": "python3"
  },
  "language_info": {
   "codemirror_mode": {
    "name": "ipython",
    "version": 3
   },
   "file_extension": ".py",
   "mimetype": "text/x-python",
   "name": "python",
   "nbconvert_exporter": "python",
   "pygments_lexer": "ipython3",
   "version": "3.10.13"
  }
 },
 "nbformat": 4,
 "nbformat_minor": 5
}
